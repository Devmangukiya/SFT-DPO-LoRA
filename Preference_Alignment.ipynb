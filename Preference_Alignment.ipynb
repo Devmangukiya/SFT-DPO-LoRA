{
 "cells": [
  {
   "cell_type": "code",
   "execution_count": 1,
   "metadata": {
    "id": "-hCEVfpvd5Cx"
   },
   "outputs": [],
   "source": [
    "%%capture\n",
    "# Installs Unsloth, xformers (Flash Attention), and all required packages\n",
    "!pip install \"unsloth[colab-new] @ git+https://github.com/unslothai/unsloth.git\"\n",
    "!pip install --no-deps xformers \"git+https://github.com/huggingface/trl.git@main\" peft accelerate bitsandbytes"
   ]
  },
  {
   "cell_type": "code",
   "execution_count": 2,
   "metadata": {
    "colab": {
     "base_uri": "https://localhost:8080/"
    },
    "id": "JCCMhYFyeOWK",
    "outputId": "9f798e20-53ae-4e31-a29f-fd73c74a5329"
   },
   "outputs": [
    {
     "name": "stdout",
     "output_type": "stream",
     "text": [
      "🦥 Unsloth: Will patch your computer to enable 2x faster free finetuning.\n",
      "🦥 Unsloth Zoo will now patch everything to make training faster!\n"
     ]
    }
   ],
   "source": [
    "from unsloth import PatchDPOTrainer"
   ]
  },
  {
   "cell_type": "code",
   "execution_count": 4,
   "metadata": {
    "colab": {
     "base_uri": "https://localhost:8080/"
    },
    "id": "GGsAcKDIfL_z",
    "outputId": "943e02c8-b69b-4828-da50-714c9169621a"
   },
   "outputs": [
    {
     "name": "stdout",
     "output_type": "stream",
     "text": [
      "Requirement already satisfied: unsloth in /usr/local/lib/python3.12/dist-packages (2025.8.9)\n"
     ]
    }
   ],
   "source": [
    "!pip install --upgrade unsloth"
   ]
  },
  {
   "cell_type": "code",
   "execution_count": 6,
   "metadata": {
    "id": "PlB_V7_kes0f"
   },
   "outputs": [],
   "source": [
    "import os\n",
    "import torch\n",
    "from datasets import load_dataset\n",
    "from transformers import TrainingArguments, TextStreamer\n",
    "from unsloth import FastLanguageModel"
   ]
  },
  {
   "cell_type": "code",
   "execution_count": 7,
   "metadata": {
    "colab": {
     "base_uri": "https://localhost:8080/",
     "height": 441,
     "referenced_widgets": [
      "47569130d72d4e1eb3c0b715642406ea",
      "2db828c8a27847448630380728e98916",
      "d0734011afd148949ebcb579e449bec7",
      "5d7774a1c642400ca3bcee5a1019b098",
      "0a6431d768c942fdab3a665c0debdae1",
      "cfb557ee86be4b33b15d95d7930395b1",
      "efda3508b84045f08d0394867f514962",
      "bcf14c32ef00471db0adafbd36bba238",
      "9dd3f97e4a7c49b3842709554d407834",
      "217f58b20ddb48c0ba35d5bd28f3b0ab",
      "1522135995284a8e96b3c4f157466006",
      "bbd05cce8f144217be0a2280614ecb8a",
      "8852bda3a4674abfa056ad1702ce9fef",
      "518848cd0fc7416ebc5a0cd94a5f4b91",
      "c4694fbd0d344ef693a7556c74b451d3",
      "7b55827ed7484c358710d7d6029accbd",
      "8fcbf4b23ede4e579072fd06597d0ee0",
      "0205eb07bf804c32a71c933e9ed03438",
      "e1a40e6b53fc4b48b7f986d1e14b9477",
      "c2107e79b9114d4a99c5bdf345bb432d",
      "ff865c94f68749ffb84220d7819bd9bb",
      "272577c24fcd455fa4ce3fe90fed302c",
      "1f5bbe7396254bb9a9c49c0910c6f121",
      "ea62959cc79542be830424faa1bb9593",
      "929839efd20e4985a07b11450f27e8d5",
      "b737e18e82054fbdb458b12e111ee04a",
      "cfb5a9bd019c40638c82a67843c4236a",
      "0a2d2bd0cf47447892a6e977a3eba97b",
      "875062dc6c8c41899a5a71bcee645af2",
      "59746f59331e4bda8cf84cda8a5129ad",
      "58b5d5e52a244b438b38992a1582a369",
      "0ee55b433bef4aa5bb81a1656bc15d74",
      "db9746035a4e44f68dedb98c27d9c30c",
      "6ffb2076d1f34c1d9876127fd5130a27",
      "a40131840de94f7dba668e098624b20f",
      "4b25f21a68c64172902dd9644078eb3d",
      "1951b3a108c44475ac2ebfb2dba6b4c8",
      "cc5440715e0844d1810aaf2870d33f09",
      "1b37fae08ad2421ea97ffd6f5c8461ee",
      "cdf59de93d0f4de1852459577b0689bd",
      "5480ab8b35384199943adc87d9794b6e",
      "c4054f6692314b20b9ca00567acdaa35",
      "c81dcdd27cb9486a9294403d4192a893",
      "4b150d6711ac4375a2f792eefa320adb",
      "ac3e69377966469ab2c5fbea9b4ad486",
      "ba7747a490fb4b66a6d148acb2d6e12c",
      "32c5b8212e6547438c518d44592be9b7",
      "d5d39645698d4ce3b9367e90c93eaf5e",
      "bddc327998d8432185067086dbb8aad0",
      "9a25456390614c588712c1f3fa558eff",
      "4206db17bbaa4cc0b076f180f9bd2255",
      "2191ed40a3784795bb6a9fd7d21c99fc",
      "7dc3aa77202d43a688b3439037d5bf45",
      "b3a80242227143caabde0020e47fe0ec",
      "88b829c2679f4817a5247b6d96a1b890",
      "57157d6e24184d9889d9564a8bb13899",
      "28090262eb284b0a93bcae4078435265",
      "451eb23cbcaa48388ff49f61521cf3b0",
      "d5e5e27d5f7d479da04e8ec7a284dd0d",
      "a27aeab4bc8e4d0eaa82709b6da48005",
      "cf64072717ba413fbfdd3f63053f350e",
      "440053b2baaa4a4ebd1e7461e7d8d0b5",
      "9d2907d0837b4e0ca74d454a5b4ad3cd",
      "29b34962e6a742e9821bfc5d64f73281",
      "a6f823c5683f4447aeb0c07e142677bd",
      "e90444cfac5a45c6bbcbadf45cab02f8",
      "784050e02c30405f825696e5ad0428b8",
      "b029a7b021e24f88a3d4fc257a1f34a0",
      "5fe4ba9fc1d444739f1d2ae95a2178b5",
      "f41a5a0f2f61401da7eb2629ab925621",
      "5715b6dd98304105a4b20a0f18adb551",
      "4fac83c43f154227949b6b770ab74423",
      "45648231b2b94e71887bc1c85ed25488",
      "5468f99b7d3b41ccb0c51e2eb1dbce55",
      "e9c8c7d2d9c748bb9c69706a3a24ff2b",
      "04bef542c7c543f99d1821cc76d8ec7a",
      "a2549e1abefa4927b170d549c1854c9d",
      "cd321400024345429f9ac7891f6c62d5",
      "951f1d07f8854b41818b976fa3c49e0f",
      "b921486c69014a41876e17466164bda1",
      "69cf328d233546c3859951868a93b95a",
      "633d247adf5d48a291f841032e92733a",
      "bdd12c36663444c98e73c6e2a596c023",
      "b41b02707b1c4ad3a95882ac71ebc490",
      "5f3c9d2c42a44373ba89981cebcda424",
      "2ceb2b1c24a740ad85efb2a7ccf2dcf1",
      "12e63c120480401f899a3bbdfaae7325",
      "8b5e832841134e91856a063bc6e6f13f",
      "c035187de3bf4840a5e84ec8d04842d0",
      "3d36ff3b9fbe428d95602969b288cdb6",
      "e740e078aea141a6baebf38bc6e5a2fb",
      "7074f35e4bb4496b9e329e112e3a0d4b",
      "c8dbb1fb8b8a44dd850f88358e0a67d4",
      "e77ffee7098f45629b5495b04e6d50f2",
      "84ae68d5b6084d4385865d4e3918a186",
      "44da9a2250504dc7889b8219d7d2937a",
      "90fb3cc44920493495fb05fb6bd19a1e",
      "2a55c49ededd45199e2585bc11259756",
      "032f20de82b54602bc35f26682f9ca2d",
      "2c1d68e5513c4a85833232cda0b29ff8",
      "546af88df7f44ea3957b4f55acaf9edb",
      "d8abc9b8d5ce4ddda3291fb123fb7aa7",
      "493827b2a187455db90f25fa39a43088",
      "1b24c7272644474aa14cc0c2ee2fbac9",
      "99faeb7142db4f91bae50ed403932d39",
      "449923ffe5f448feb5c04628c80fe230",
      "755fd731650849749ea03cf54626b1ef",
      "ea11cc7649a74625a7ff79c255273beb",
      "84f3012833f44b4d9325e9a7ce9d0f38",
      "75ae0425acea450fab23981de54e1e2d"
     ]
    },
    "id": "YiH7VNd9e_t6",
    "outputId": "327b9e73-da32-4923-9485-9686cf5d61ec"
   },
   "outputs": [
    {
     "name": "stdout",
     "output_type": "stream",
     "text": [
      "==((====))==  Unsloth 2025.8.9: Fast Llama patching. Transformers: 4.55.2.\n",
      "   \\\\   /|    Tesla T4. Num GPUs = 1. Max memory: 14.741 GB. Platform: Linux.\n",
      "O^O/ \\_/ \\    Torch: 2.8.0+cu126. CUDA: 7.5. CUDA Toolkit: 12.6. Triton: 3.4.0\n",
      "\\        /    Bfloat16 = FALSE. FA [Xformers = 0.0.32.post2. FA2 = False]\n",
      " \"-____-\"     Free license: http://github.com/unslothai/unsloth\n",
      "Unsloth: Fast downloading is enabled - ignore downloading bars which are red colored!\n"
     ]
    },
    {
     "data": {
      "application/vnd.jupyter.widget-view+json": {
       "model_id": "47569130d72d4e1eb3c0b715642406ea",
       "version_major": 2,
       "version_minor": 0
      },
      "text/plain": [
       "model.safetensors.index.json: 0.00B [00:00, ?B/s]"
      ]
     },
     "metadata": {},
     "output_type": "display_data"
    },
    {
     "data": {
      "application/vnd.jupyter.widget-view+json": {
       "model_id": "bbd05cce8f144217be0a2280614ecb8a",
       "version_major": 2,
       "version_minor": 0
      },
      "text/plain": [
       "model-00001-of-00004.safetensors:   0%|          | 0.00/4.98G [00:00<?, ?B/s]"
      ]
     },
     "metadata": {},
     "output_type": "display_data"
    },
    {
     "data": {
      "application/vnd.jupyter.widget-view+json": {
       "model_id": "1f5bbe7396254bb9a9c49c0910c6f121",
       "version_major": 2,
       "version_minor": 0
      },
      "text/plain": [
       "model-00002-of-00004.safetensors:   0%|          | 0.00/5.00G [00:00<?, ?B/s]"
      ]
     },
     "metadata": {},
     "output_type": "display_data"
    },
    {
     "data": {
      "application/vnd.jupyter.widget-view+json": {
       "model_id": "6ffb2076d1f34c1d9876127fd5130a27",
       "version_major": 2,
       "version_minor": 0
      },
      "text/plain": [
       "model-00003-of-00004.safetensors:   0%|          | 0.00/4.92G [00:00<?, ?B/s]"
      ]
     },
     "metadata": {},
     "output_type": "display_data"
    },
    {
     "data": {
      "application/vnd.jupyter.widget-view+json": {
       "model_id": "ac3e69377966469ab2c5fbea9b4ad486",
       "version_major": 2,
       "version_minor": 0
      },
      "text/plain": [
       "model-00004-of-00004.safetensors:   0%|          | 0.00/1.17G [00:00<?, ?B/s]"
      ]
     },
     "metadata": {},
     "output_type": "display_data"
    },
    {
     "data": {
      "application/vnd.jupyter.widget-view+json": {
       "model_id": "57157d6e24184d9889d9564a8bb13899",
       "version_major": 2,
       "version_minor": 0
      },
      "text/plain": [
       "Loading checkpoint shards:   0%|          | 0/4 [00:00<?, ?it/s]"
      ]
     },
     "metadata": {},
     "output_type": "display_data"
    },
    {
     "data": {
      "application/vnd.jupyter.widget-view+json": {
       "model_id": "784050e02c30405f825696e5ad0428b8",
       "version_major": 2,
       "version_minor": 0
      },
      "text/plain": [
       "generation_config.json:   0%|          | 0.00/230 [00:00<?, ?B/s]"
      ]
     },
     "metadata": {},
     "output_type": "display_data"
    },
    {
     "data": {
      "application/vnd.jupyter.widget-view+json": {
       "model_id": "cd321400024345429f9ac7891f6c62d5",
       "version_major": 2,
       "version_minor": 0
      },
      "text/plain": [
       "tokenizer_config.json: 0.00B [00:00, ?B/s]"
      ]
     },
     "metadata": {},
     "output_type": "display_data"
    },
    {
     "data": {
      "application/vnd.jupyter.widget-view+json": {
       "model_id": "c035187de3bf4840a5e84ec8d04842d0",
       "version_major": 2,
       "version_minor": 0
      },
      "text/plain": [
       "tokenizer.json: 0.00B [00:00, ?B/s]"
      ]
     },
     "metadata": {},
     "output_type": "display_data"
    },
    {
     "data": {
      "application/vnd.jupyter.widget-view+json": {
       "model_id": "2c1d68e5513c4a85833232cda0b29ff8",
       "version_major": 2,
       "version_minor": 0
      },
      "text/plain": [
       "special_tokens_map.json:   0%|          | 0.00/345 [00:00<?, ?B/s]"
      ]
     },
     "metadata": {},
     "output_type": "display_data"
    }
   ],
   "source": [
    "max_sequence_length = 2048\n",
    "model, tokenizer = FastLanguageModel.from_pretrained(\n",
    "    model_name = \"mlabonne/TwinLlama-3.1-8B\",\n",
    "    max_seq_length = max_sequence_length,\n",
    "    load_in_4bit = True,\n",
    "    dtype = torch.float16\n",
    ")"
   ]
  },
  {
   "cell_type": "code",
   "execution_count": 9,
   "metadata": {
    "colab": {
     "base_uri": "https://localhost:8080/"
    },
    "id": "inDXvOErf_ow",
    "outputId": "e20bcf98-a283-4975-8708-bcef1a2440eb"
   },
   "outputs": [
    {
     "name": "stderr",
     "output_type": "stream",
     "text": [
      "Unsloth 2025.8.9 patched 32 layers with 32 QKV layers, 32 O layers and 32 MLP layers.\n"
     ]
    }
   ],
   "source": [
    "model = FastLanguageModel.get_peft_model(\n",
    "    model = model,\n",
    "    r = 32,\n",
    "    lora_alpha = 32,\n",
    "    lora_dropout = 0,\n",
    "    target_modules = [\"q_proj\",\"k_proj\",\"v_proj\",\"up_proj\",\"down_proj\",\"o_proj\",\"gate_proj\"]\n",
    ")"
   ]
  },
  {
   "cell_type": "code",
   "execution_count": 10,
   "metadata": {
    "colab": {
     "base_uri": "https://localhost:8080/",
     "height": 246,
     "referenced_widgets": [
      "562238cb5f434454ab8f5fd896f661c8",
      "27d133afe3594efb9f72bc1ea134f59e",
      "486e6e9554894362bf3d044f785c0d59",
      "27cb51597a9a4e7a85b7bbea2881d0bc",
      "8f2d7b0345a84bb48bb8f5a616a506f9",
      "b9bf93f24e7247d98ca9f76a0ca3ebc0",
      "35406466f47b4944a8ccf9daf4060f08",
      "27dbdec1b8964a118b9a46a1035580d1",
      "bb70bc39173044e488b8ded875777aeb",
      "fd7cb0f0e8f04397a720a4f9269b95d1",
      "3a6eeb87ace84eb1bcae3105b136f1aa",
      "c88faf02a0474090bd492ef9155cb485",
      "cf7ef28194cf4783a6a6a80626d9e278",
      "e6a712823f584654a727bc50ceb5984d",
      "66b790a55a564027ba2041161403ea64",
      "f1f33c888afd4688a91bc6376175b218",
      "b524df5c630d4657b8a85ba0849ffd53",
      "08fdf96a02e4490298cc9a9df3f32abc",
      "4975ff7e844b42bb985f0aaf2fea43e2",
      "34e6c4a6d483427f84beda876da1e8af",
      "e0ad152991f9469e9cf1b7e362966198",
      "0f800ca54053447180ad7196a9cfbd61",
      "37cbcfe7f5c7440192c7d3d63341a76e",
      "c82913bd75f745ec8aa83cd06e03be24",
      "eccd428256d34b65b60851a3108c0389",
      "ea94ad8bc3f74e4db2ba7ecf325058ac",
      "eca8308c61104c3c9e49111dc84f08fa",
      "feca222d9c404bb98c44bb0a2fc0b4fd",
      "389a47dafd98437b992f9389d2545933",
      "96399a3ab06244c88a2c2679e465df34",
      "b5e032b7547e45f0b1831d685d2f269c",
      "77c46593ba854cb3aff2f3b2a0e71083",
      "9aee8dfd3ba542e3aea45ad1b2999e0a",
      "0e48a449cc0140cb99dde68fdcebb1b0",
      "6ed295fee93f487fa9394c5ad5e7052f",
      "4c05fb4146c04e81a7d07f68b955ce23",
      "8442c9df0e9440e7ad59795d0ac67137",
      "524b3fa5f1be4c2faebe478afcb99373",
      "285f329b5b574251a9dc391d07f3974b",
      "06c2285508ee4679b16928da9183e1cb",
      "05564b703b414d889a5e05704e949082",
      "b2e3dfcf10784bd28f665a1ea468d023",
      "cff636e733ff44d78eb4e339296de051",
      "71ec8f63d1c24f71953d1ef704b7ce82",
      "91b8fe71522b45bbb1d66455c2de2afa",
      "4aeadf9180b847749d4c15f5d995319c",
      "ca0c57c66489464ab20b1c5a71a29055",
      "94859ebebfd14be3a72ad67bb5d52c10",
      "782013c870004e109ccc909b241ced92",
      "8cfe6d4074c84202b67d04f90fcd8a68",
      "523d6e26634c4b5897f876c6f81f126e",
      "5d405448cd284366969358754cf60005",
      "6d9ea604feb249a89a6e8102ec2fa2c8",
      "16f662ccaaed4b72bebf2eada90ab9d8",
      "aadef51720c54c059c609c5b3acb139b"
     ]
    },
    "id": "-0xOW5pFg_Kd",
    "outputId": "2fb0d14b-2e33-46f3-aaf3-0892f6a86682"
   },
   "outputs": [
    {
     "data": {
      "application/vnd.jupyter.widget-view+json": {
       "model_id": "562238cb5f434454ab8f5fd896f661c8",
       "version_major": 2,
       "version_minor": 0
      },
      "text/plain": [
       "README.md:   0%|          | 0.00/490 [00:00<?, ?B/s]"
      ]
     },
     "metadata": {},
     "output_type": "display_data"
    },
    {
     "data": {
      "application/vnd.jupyter.widget-view+json": {
       "model_id": "c88faf02a0474090bd492ef9155cb485",
       "version_major": 2,
       "version_minor": 0
      },
      "text/plain": [
       "data/train-00000-of-00001.parquet:   0%|          | 0.00/304k [00:00<?, ?B/s]"
      ]
     },
     "metadata": {},
     "output_type": "display_data"
    },
    {
     "data": {
      "application/vnd.jupyter.widget-view+json": {
       "model_id": "37cbcfe7f5c7440192c7d3d63341a76e",
       "version_major": 2,
       "version_minor": 0
      },
      "text/plain": [
       "data/test-00000-of-00001.parquet:   0%|          | 0.00/31.6k [00:00<?, ?B/s]"
      ]
     },
     "metadata": {},
     "output_type": "display_data"
    },
    {
     "data": {
      "application/vnd.jupyter.widget-view+json": {
       "model_id": "0e48a449cc0140cb99dde68fdcebb1b0",
       "version_major": 2,
       "version_minor": 0
      },
      "text/plain": [
       "Generating train split:   0%|          | 0/1545 [00:00<?, ? examples/s]"
      ]
     },
     "metadata": {},
     "output_type": "display_data"
    },
    {
     "data": {
      "application/vnd.jupyter.widget-view+json": {
       "model_id": "91b8fe71522b45bbb1d66455c2de2afa",
       "version_major": 2,
       "version_minor": 0
      },
      "text/plain": [
       "Generating test split:   0%|          | 0/89 [00:00<?, ? examples/s]"
      ]
     },
     "metadata": {},
     "output_type": "display_data"
    },
    {
     "data": {
      "text/plain": [
       "Dataset({\n",
       "    features: ['prompt', 'rejected', 'chosen'],\n",
       "    num_rows: 1545\n",
       "})"
      ]
     },
     "execution_count": 10,
     "metadata": {},
     "output_type": "execute_result"
    }
   ],
   "source": [
    "dataset = load_dataset(\"mlabonne/llmtwin-dpo\",split=\"train\")\n",
    "dataset"
   ]
  },
  {
   "cell_type": "code",
   "execution_count": 11,
   "metadata": {
    "id": "OfyJbobAhFvs"
   },
   "outputs": [],
   "source": [
    "alpaca_template = \"\"\"Below is an instruction that describe a task. write a response that appropriately completes the request.\n",
    "### Instruction:\n",
    "{}\n",
    "### Response:\n",
    "{}\n",
    "\"\"\"\n",
    "EOS_TOKEN = tokenizer.eos_token\n",
    "\n",
    "def format_samples(example):\n",
    "  example[\"prompt\"] = alpaca_template.format(example[\"prompt\"],\"\")\n",
    "  example[\"chosen\"] = example[\"chosen\"] + EOS_TOKEN\n",
    "  example[\"rejected\"] = example[\"rejected\"] + EOS_TOKEN\n",
    "  return {\"prompt\": example[\"prompt\"], \"chosen\": example[\"chosen\"], \"rejected\": example[\"rejected\"]}\n"
   ]
  },
  {
   "cell_type": "code",
   "execution_count": 12,
   "metadata": {
    "colab": {
     "base_uri": "https://localhost:8080/",
     "height": 49,
     "referenced_widgets": [
      "2a0500fa55ca4eb5ab31f231603fae64",
      "ce40851d49ed4b2cb463871e88267bbd",
      "c289b0c89c4e460d915036a2dea6e7ee",
      "04d458e2f406491e83da8c29062de9f6",
      "183fa8624c894cadb1bfad8711e7051c",
      "9fff93a73bdc4490860f08bb20827a69",
      "696d6ae05f5d4a63919f0a038927e3ee",
      "28972c61752c43ab97391714af3cfc90",
      "9786f506d8d0407cb6a1f452523be43f",
      "a0c9df5608a24d6ca0f0c1074d958976",
      "4503af1c62b645caab441478ee92edf3"
     ]
    },
    "id": "dMKNZC8HiBQh",
    "outputId": "a3172220-711e-44cb-fced-a6b5b132ecd8"
   },
   "outputs": [
    {
     "data": {
      "application/vnd.jupyter.widget-view+json": {
       "model_id": "2a0500fa55ca4eb5ab31f231603fae64",
       "version_major": 2,
       "version_minor": 0
      },
      "text/plain": [
       "Map:   0%|          | 0/1545 [00:00<?, ? examples/s]"
      ]
     },
     "metadata": {},
     "output_type": "display_data"
    }
   ],
   "source": [
    "dataset = dataset.map(format_samples)\n",
    "dataset = dataset.train_test_split(test_size = 0.05)"
   ]
  },
  {
   "cell_type": "code",
   "execution_count": 13,
   "metadata": {
    "colab": {
     "base_uri": "https://localhost:8080/"
    },
    "id": "oE9g8j3-iJZO",
    "outputId": "7fc19faa-ddbc-4676-abec-231e64739f9d"
   },
   "outputs": [
    {
     "data": {
      "text/plain": [
       "DatasetDict({\n",
       "    train: Dataset({\n",
       "        features: ['prompt', 'rejected', 'chosen'],\n",
       "        num_rows: 1467\n",
       "    })\n",
       "    test: Dataset({\n",
       "        features: ['prompt', 'rejected', 'chosen'],\n",
       "        num_rows: 78\n",
       "    })\n",
       "})"
      ]
     },
     "execution_count": 13,
     "metadata": {},
     "output_type": "execute_result"
    }
   ],
   "source": [
    "dataset"
   ]
  },
  {
   "cell_type": "code",
   "execution_count": 14,
   "metadata": {
    "colab": {
     "base_uri": "https://localhost:8080/"
    },
    "id": "duEjPFkwiKZY",
    "outputId": "80c105b3-725c-41c8-fd5d-d7e325e2262f"
   },
   "outputs": [
    {
     "name": "stdout",
     "output_type": "stream",
     "text": [
      "0.22.0.dev0\n"
     ]
    }
   ],
   "source": [
    "import trl\n",
    "print(trl.__version__)"
   ]
  },
  {
   "cell_type": "code",
   "execution_count": 15,
   "metadata": {
    "id": "t3ppoUGBiQld"
   },
   "outputs": [],
   "source": [
    "from trl import DPOTrainer,DPOConfig"
   ]
  },
  {
   "cell_type": "code",
   "execution_count": 16,
   "metadata": {
    "id": "E3vvDcuFiSG7"
   },
   "outputs": [],
   "source": [
    "!pip install comet-ml>=3.43.2"
   ]
  },
  {
   "cell_type": "code",
   "execution_count": 20,
   "metadata": {
    "colab": {
     "base_uri": "https://localhost:8080/",
     "height": 209,
     "referenced_widgets": [
      "5e94397538234da8a64bf536c8f2a91f",
      "362828580a2441bdbe06edeb254c785e",
      "7619d6e2440049d7a8dd24ecce3c08f4",
      "30371d8d32c5456e82d5b237d7d38ef3",
      "8708d237ba79495497cff28363dd583e",
      "7ca744b911724c3db96e67ac0a89e946",
      "c78af245104e402d9f04594b91036876",
      "656a3a191a264b8c8db7158091a6baaf",
      "f5d0ce769a814a17a6bd541fb91b3dd3",
      "c435b92a2c7e4b62b1138bb1ac2ac8ca",
      "c1cb9e20bc214173b8692bd24fecae2b",
      "c991f41d96c1412cb177b4c72f357daf",
      "4ec0b6ee926e4052b0186343da009ccc",
      "e90788e31b564c11b8954c71f07d240a",
      "31744b817ecb41cb90eaeb6679f5d164",
      "4e53b1560e1642b39fe02518ac86af45",
      "08953510446d4201a3d0b3f8e6b4dab9",
      "98618e491b06436187fc38bb09108197",
      "bafd7ef9ca8440de93d6cde05587ac5b",
      "8946ab90353e4351b85940f4e11d4e3d",
      "5861f15a38134824b2ff46f2fe93a5cf",
      "2b5ac8f615414d87a5d296e61f22e401",
      "e534c58107a64aacbf404aa40cb02495",
      "7c446c3785ff4eed9ce3727f69c4d0e0",
      "47837af780ba4f52beabbee10a004eff",
      "29e36d6186d843f4bf166e4aef0f73ca",
      "8ad3a16710f24c419d0dbc9d4f0da115",
      "906c9ca9bd694787ada5d2b31ca3afbf",
      "0cc97a2bf5304fb88d3526ccbd9ecfc4",
      "35988d53b28a4dd0ac9a3314597314c1",
      "b6524c08593140cfb8944b6306a709ab",
      "793516c7209a45098e53c4f6e0de1b00",
      "af798b3d1f1041759a0931d18884cdbf",
      "4f6f583424b1478aaeb16e625f44b649",
      "88e403a1f86744949f538226aafc1d3c",
      "b1cf45d20a6b4766ba3829849aef7700",
      "42ee4db890fc4bfdb2310d74860c8fed",
      "59c095228ce844b1b71e26a4ce3eb100",
      "ab9e54d13cd84cf6bedf19f0efb05adf",
      "775d17222afd441aba5c89a6c96dcf10",
      "52512e5232384ee6a809d7f1e81bf20d",
      "113a18c3ad594888ab37899beaed6846",
      "93962daa41c745e694e6b099535bee2a",
      "46fb98e0b365476c97d40b81f7f75dc1",
      "2aaaad9e8b5244f78b0104c5f3c9cac2",
      "c7b23dd683a44a99b2c63dc90d93c9eb",
      "1586ae5e6f1c494b8cf2f53a0d8db7d8",
      "12c34ecabe004f01a12744166bfa136d",
      "6573b8aba217484d9c9b59bd6c3211e7",
      "07a7b9aff7cf4a90b3d2c34f076ddb42",
      "701820324d204c8c8d3b9f14e95273d3",
      "c35c18a408594ccd985a869f8fc4783e",
      "3334192300cd43a8b3d47bb459cacd19",
      "fcf9b278c6814afa94c622a442ba977d",
      "e324c0e2885a454a8979318306747398",
      "58e26661ed88468eb49c5f90ec42ea11",
      "0bdddb0187c14b79b4a1e51e4d93c471",
      "f82e92ab0b22435583167ad6b52b9158",
      "8f8ba18918d5422983dbd283d5a3b605",
      "89e4239d45fe4ffd959b429bed1ba1b7",
      "ad8c5c77c1624f558b3323dee72e01c5",
      "7fe6d85da3c1412d906b6ed8d4322362",
      "39020faa1e3d4120ab06c305cf4736c0",
      "128aba8c9f5e4efa844e396f60c659cf",
      "2d25500f081241bd911859479273a86c",
      "ac20b3c0b5c54d61912f3f4213bc8cd4"
     ]
    },
    "id": "sVs-wiQziV1G",
    "outputId": "25b10eec-66a1-443c-dd5c-b8cd0d3add28"
   },
   "outputs": [
    {
     "data": {
      "application/vnd.jupyter.widget-view+json": {
       "model_id": "5e94397538234da8a64bf536c8f2a91f",
       "version_major": 2,
       "version_minor": 0
      },
      "text/plain": [
       "Extracting prompt in train dataset (num_proc=2):   0%|          | 0/1467 [00:00<?, ? examples/s]"
      ]
     },
     "metadata": {},
     "output_type": "display_data"
    },
    {
     "data": {
      "application/vnd.jupyter.widget-view+json": {
       "model_id": "c991f41d96c1412cb177b4c72f357daf",
       "version_major": 2,
       "version_minor": 0
      },
      "text/plain": [
       "Applying chat template to train dataset (num_proc=2):   0%|          | 0/1467 [00:00<?, ? examples/s]"
      ]
     },
     "metadata": {},
     "output_type": "display_data"
    },
    {
     "data": {
      "application/vnd.jupyter.widget-view+json": {
       "model_id": "e534c58107a64aacbf404aa40cb02495",
       "version_major": 2,
       "version_minor": 0
      },
      "text/plain": [
       "Tokenizing train dataset (num_proc=2):   0%|          | 0/1467 [00:00<?, ? examples/s]"
      ]
     },
     "metadata": {},
     "output_type": "display_data"
    },
    {
     "data": {
      "application/vnd.jupyter.widget-view+json": {
       "model_id": "4f6f583424b1478aaeb16e625f44b649",
       "version_major": 2,
       "version_minor": 0
      },
      "text/plain": [
       "Extracting prompt in eval dataset (num_proc=2):   0%|          | 0/78 [00:00<?, ? examples/s]"
      ]
     },
     "metadata": {},
     "output_type": "display_data"
    },
    {
     "data": {
      "application/vnd.jupyter.widget-view+json": {
       "model_id": "2aaaad9e8b5244f78b0104c5f3c9cac2",
       "version_major": 2,
       "version_minor": 0
      },
      "text/plain": [
       "Applying chat template to eval dataset (num_proc=2):   0%|          | 0/78 [00:00<?, ? examples/s]"
      ]
     },
     "metadata": {},
     "output_type": "display_data"
    },
    {
     "data": {
      "application/vnd.jupyter.widget-view+json": {
       "model_id": "58e26661ed88468eb49c5f90ec42ea11",
       "version_major": 2,
       "version_minor": 0
      },
      "text/plain": [
       "Tokenizing eval dataset (num_proc=2):   0%|          | 0/78 [00:00<?, ? examples/s]"
      ]
     },
     "metadata": {},
     "output_type": "display_data"
    }
   ],
   "source": [
    "trainer = DPOTrainer(\n",
    "    model = model,\n",
    "    ref_model = None,\n",
    "    tokenizer = tokenizer,\n",
    "    beta = 0.5,\n",
    "    train_dataset = dataset[\"train\"],\n",
    "    eval_dataset = dataset[\"test\"],\n",
    "    max_length = max_sequence_length // 2,\n",
    "    max_prompt_length = max_sequence_length // 2,\n",
    "    args = DPOConfig(\n",
    "        learning_rate = 2e-6,\n",
    "        lr_scheduler_type = \"linear\",\n",
    "        per_device_train_batch_size = 2,\n",
    "        per_device_eval_batch_size = 2,\n",
    "        gradient_accumulation_steps = 8,\n",
    "        num_train_epochs = 1,\n",
    "        fp16 = True,\n",
    "        bf16 = False,\n",
    "        logging_steps = 1,\n",
    "        optim = \"adamw_8bit\",\n",
    "        weight_decay = 0.01,\n",
    "        warmup_steps = 10,\n",
    "        output_dir = \"output\",\n",
    "        eval_strategy = \"steps\",\n",
    "        eval_steps = 0.2,\n",
    "        seed = 0\n",
    "    )\n",
    ")"
   ]
  },
  {
   "cell_type": "code",
   "execution_count": 21,
   "metadata": {
    "colab": {
     "base_uri": "https://localhost:8080/",
     "height": 778
    },
    "id": "y5K_tm49jdQV",
    "outputId": "c8a93a66-3d84-49ba-ae66-0b0e67b77a5c"
   },
   "outputs": [
    {
     "metadata": {
      "tags": null
     },
     "name": "stderr",
     "output_type": "stream",
     "text": [
      "==((====))==  Unsloth - 2x faster free finetuning | Num GPUs used = 1\n",
      "   \\\\   /|    Num examples = 1,467 | Num Epochs = 1 | Total steps = 92\n",
      "O^O/ \\_/ \\    Batch size per device = 2 | Gradient accumulation steps = 8\n",
      "\\        /    Data Parallel GPUs = 1 | Total batch size (2 x 8 x 1) = 16\n",
      " \"-____-\"     Trainable parameters = 83,886,080 of 8,114,147,328 (1.03% trained)\n",
      "/usr/local/lib/python3.12/dist-packages/notebook/notebookapp.py:191: SyntaxWarning: invalid escape sequence '\\/'\n",
      "  | |_| | '_ \\/ _` / _` |  _/ -_)\n"
     ]
    },
    {
     "data": {
      "application/javascript": [
       "\n",
       "        window._wandbApiKey = new Promise((resolve, reject) => {\n",
       "            function loadScript(url) {\n",
       "            return new Promise(function(resolve, reject) {\n",
       "                let newScript = document.createElement(\"script\");\n",
       "                newScript.onerror = reject;\n",
       "                newScript.onload = resolve;\n",
       "                document.body.appendChild(newScript);\n",
       "                newScript.src = url;\n",
       "            });\n",
       "            }\n",
       "            loadScript(\"https://cdn.jsdelivr.net/npm/postmate/build/postmate.min.js\").then(() => {\n",
       "            const iframe = document.createElement('iframe')\n",
       "            iframe.style.cssText = \"width:0;height:0;border:none\"\n",
       "            document.body.appendChild(iframe)\n",
       "            const handshake = new Postmate({\n",
       "                container: iframe,\n",
       "                url: 'https://wandb.ai/authorize'\n",
       "            });\n",
       "            const timeout = setTimeout(() => reject(\"Couldn't auto authenticate\"), 5000)\n",
       "            handshake.then(function(child) {\n",
       "                child.on('authorize', data => {\n",
       "                    clearTimeout(timeout)\n",
       "                    resolve(data)\n",
       "                });\n",
       "            });\n",
       "            })\n",
       "        });\n",
       "    "
      ],
      "text/plain": [
       "<IPython.core.display.Javascript object>"
      ]
     },
     "metadata": {},
     "output_type": "display_data"
    },
    {
     "metadata": {
      "tags": null
     },
     "name": "stderr",
     "output_type": "stream",
     "text": [
      "\u001b[34m\u001b[1mwandb\u001b[0m: Logging into wandb.ai. (Learn how to deploy a W&B server locally: https://wandb.me/wandb-server)\n",
      "\u001b[34m\u001b[1mwandb\u001b[0m: You can find your API key in your browser here: https://wandb.ai/authorize?ref=models\n",
      "wandb: Paste an API key from your profile and hit enter:\u001b[34m\u001b[1mwandb\u001b[0m: \u001b[33mWARNING\u001b[0m If you're specifying your api key in code, ensure this code is not shared publicly.\n",
      "\u001b[34m\u001b[1mwandb\u001b[0m: \u001b[33mWARNING\u001b[0m Consider setting the WANDB_API_KEY environment variable, or running `wandb login` from the command line.\n",
      "\u001b[34m\u001b[1mwandb\u001b[0m: No netrc file found, creating one.\n",
      "\u001b[34m\u001b[1mwandb\u001b[0m: Appending key for api.wandb.ai to your netrc file: /root/.netrc\n",
      "\u001b[34m\u001b[1mwandb\u001b[0m: Currently logged in as: \u001b[33mdevmangukiya561\u001b[0m (\u001b[33mdevmangukiya561-nirma-university\u001b[0m) to \u001b[32mhttps://api.wandb.ai\u001b[0m. Use \u001b[1m`wandb login --relogin`\u001b[0m to force relogin\n"
     ]
    },
    {
     "data": {
      "text/html": [
       "Tracking run with wandb version 0.21.1"
      ],
      "text/plain": [
       "<IPython.core.display.HTML object>"
      ]
     },
     "metadata": {},
     "output_type": "display_data"
    },
    {
     "data": {
      "text/html": [
       "Run data is saved locally in <code>/content/wandb/run-20250822_161718-bjyic8mr</code>"
      ],
      "text/plain": [
       "<IPython.core.display.HTML object>"
      ]
     },
     "metadata": {},
     "output_type": "display_data"
    },
    {
     "data": {
      "text/html": [
       "Syncing run <strong><a href='https://wandb.ai/devmangukiya561-nirma-university/huggingface/runs/bjyic8mr' target=\"_blank\">sparkling-darkness-3</a></strong> to <a href='https://wandb.ai/devmangukiya561-nirma-university/huggingface' target=\"_blank\">Weights & Biases</a> (<a href='https://wandb.me/developer-guide' target=\"_blank\">docs</a>)<br>"
      ],
      "text/plain": [
       "<IPython.core.display.HTML object>"
      ]
     },
     "metadata": {},
     "output_type": "display_data"
    },
    {
     "data": {
      "text/html": [
       " View project at <a href='https://wandb.ai/devmangukiya561-nirma-university/huggingface' target=\"_blank\">https://wandb.ai/devmangukiya561-nirma-university/huggingface</a>"
      ],
      "text/plain": [
       "<IPython.core.display.HTML object>"
      ]
     },
     "metadata": {},
     "output_type": "display_data"
    },
    {
     "data": {
      "text/html": [
       " View run at <a href='https://wandb.ai/devmangukiya561-nirma-university/huggingface/runs/bjyic8mr' target=\"_blank\">https://wandb.ai/devmangukiya561-nirma-university/huggingface/runs/bjyic8mr</a>"
      ],
      "text/plain": [
       "<IPython.core.display.HTML object>"
      ]
     },
     "metadata": {},
     "output_type": "display_data"
    },
    {
     "metadata": {
      "tags": null
     },
     "name": "stdout",
     "output_type": "stream",
     "text": [
      "Unsloth: Will smartly offload gradients to save VRAM!\n"
     ]
    },
    {
     "data": {
      "text/html": [
       "\n",
       "    <div>\n",
       "      \n",
       "      <progress value='25' max='92' style='width:300px; height:20px; vertical-align: middle;'></progress>\n",
       "      [25/92 07:16 < 21:12, 0.05 it/s, Epoch 0.26/1]\n",
       "    </div>\n",
       "    <table border=\"1\" class=\"dataframe\">\n",
       "  <thead>\n",
       " <tr style=\"text-align: left;\">\n",
       "      <th>Step</th>\n",
       "      <th>Training Loss</th>\n",
       "      <th>Validation Loss</th>\n",
       "      <th>rewards / chosen</th>\n",
       "      <th>rewards / rejected</th>\n",
       "      <th>rewards / accuracies</th>\n",
       "      <th>rewards / margins</th>\n",
       "      <th>logps / chosen</th>\n",
       "      <th>logps / rejected</th>\n",
       "      <th>logits / chosen</th>\n",
       "      <th>logits / rejected</th>\n",
       "      <th>eval_logits / chosen</th>\n",
       "      <th>eval_logits / rejected</th>\n",
       "      <th>nll_loss</th>\n",
       "      <th>aux_loss</th>\n",
       "    </tr>\n",
       "  </thead>\n",
       "  <tbody>\n",
       "    <tr>\n",
       "      <td>19</td>\n",
       "      <td>0.677500</td>\n",
       "      <td>0.673535</td>\n",
       "      <td>0.036286</td>\n",
       "      <td>-0.003441</td>\n",
       "      <td>0.961538</td>\n",
       "      <td>0.039727</td>\n",
       "      <td>-86.372231</td>\n",
       "      <td>-53.806545</td>\n",
       "      <td>-1.574197</td>\n",
       "      <td>-1.520455</td>\n",
       "      <td>0</td>\n",
       "      <td>0</td>\n",
       "      <td>0</td>\n",
       "      <td>0</td>\n",
       "    </tr>\n",
       "  </tbody>\n",
       "</table><p>"
      ],
      "text/plain": [
       "<IPython.core.display.HTML object>"
      ]
     },
     "metadata": {},
     "output_type": "display_data"
    },
    {
     "data": {
      "text/html": [
       "\n",
       "    <div>\n",
       "      \n",
       "      <progress value='92' max='92' style='width:300px; height:20px; vertical-align: middle;'></progress>\n",
       "      [92/92 29:00, Epoch 1/1]\n",
       "    </div>\n",
       "    <table border=\"1\" class=\"dataframe\">\n",
       "  <thead>\n",
       " <tr style=\"text-align: left;\">\n",
       "      <th>Step</th>\n",
       "      <th>Training Loss</th>\n",
       "      <th>Validation Loss</th>\n",
       "      <th>rewards / chosen</th>\n",
       "      <th>rewards / rejected</th>\n",
       "      <th>rewards / accuracies</th>\n",
       "      <th>rewards / margins</th>\n",
       "      <th>logps / chosen</th>\n",
       "      <th>logps / rejected</th>\n",
       "      <th>logits / chosen</th>\n",
       "      <th>logits / rejected</th>\n",
       "      <th>eval_logits / chosen</th>\n",
       "      <th>eval_logits / rejected</th>\n",
       "      <th>nll_loss</th>\n",
       "      <th>aux_loss</th>\n",
       "    </tr>\n",
       "  </thead>\n",
       "  <tbody>\n",
       "    <tr>\n",
       "      <td>19</td>\n",
       "      <td>0.677500</td>\n",
       "      <td>0.673535</td>\n",
       "      <td>0.036286</td>\n",
       "      <td>-0.003441</td>\n",
       "      <td>0.961538</td>\n",
       "      <td>0.039727</td>\n",
       "      <td>-86.372231</td>\n",
       "      <td>-53.806545</td>\n",
       "      <td>-1.574197</td>\n",
       "      <td>-1.520455</td>\n",
       "      <td>0</td>\n",
       "      <td>0</td>\n",
       "      <td>0</td>\n",
       "      <td>0</td>\n",
       "    </tr>\n",
       "    <tr>\n",
       "      <td>38</td>\n",
       "      <td>0.645000</td>\n",
       "      <td>0.631683</td>\n",
       "      <td>0.103791</td>\n",
       "      <td>-0.024376</td>\n",
       "      <td>0.961538</td>\n",
       "      <td>0.128167</td>\n",
       "      <td>-85.697174</td>\n",
       "      <td>-54.015888</td>\n",
       "      <td>-1.583034</td>\n",
       "      <td>-1.525957</td>\n",
       "      <td>No Log</td>\n",
       "      <td>No Log</td>\n",
       "      <td>No Log</td>\n",
       "      <td>No Log</td>\n",
       "    </tr>\n",
       "    <tr>\n",
       "      <td>57</td>\n",
       "      <td>0.613000</td>\n",
       "      <td>0.600501</td>\n",
       "      <td>0.141697</td>\n",
       "      <td>-0.055878</td>\n",
       "      <td>0.961538</td>\n",
       "      <td>0.197575</td>\n",
       "      <td>-85.318108</td>\n",
       "      <td>-54.330910</td>\n",
       "      <td>-1.589519</td>\n",
       "      <td>-1.530197</td>\n",
       "      <td>No Log</td>\n",
       "      <td>No Log</td>\n",
       "      <td>No Log</td>\n",
       "      <td>No Log</td>\n",
       "    </tr>\n",
       "    <tr>\n",
       "      <td>76</td>\n",
       "      <td>0.586700</td>\n",
       "      <td>0.581970</td>\n",
       "      <td>0.159730</td>\n",
       "      <td>-0.080633</td>\n",
       "      <td>0.974359</td>\n",
       "      <td>0.240363</td>\n",
       "      <td>-85.137779</td>\n",
       "      <td>-54.578457</td>\n",
       "      <td>-1.592922</td>\n",
       "      <td>-1.532504</td>\n",
       "      <td>No Log</td>\n",
       "      <td>No Log</td>\n",
       "      <td>No Log</td>\n",
       "      <td>No Log</td>\n",
       "    </tr>\n",
       "  </tbody>\n",
       "</table><p>"
      ],
      "text/plain": [
       "<IPython.core.display.HTML object>"
      ]
     },
     "metadata": {},
     "output_type": "display_data"
    },
    {
     "data": {
      "text/plain": [
       "TrainOutput(global_step=92, training_loss=0.6369568096554797, metrics={'train_runtime': 1833.9147, 'train_samples_per_second': 0.8, 'train_steps_per_second': 0.05, 'total_flos': 0.0, 'train_loss': 0.6369568096554797, 'epoch': 1.0})"
      ]
     },
     "execution_count": 21,
     "metadata": {},
     "output_type": "execute_result"
    }
   ],
   "source": [
    "trainer.train()"
   ]
  },
  {
   "cell_type": "code",
   "execution_count": 23,
   "metadata": {
    "colab": {
     "base_uri": "https://localhost:8080/"
    },
    "id": "v0x6YympkNTa",
    "outputId": "fffc86ef-9de4-4ca8-c1d5-b1db34f29b24"
   },
   "outputs": [
    {
     "name": "stdout",
     "output_type": "stream",
     "text": [
      "<|begin_of_text|>Below is an instruction that describe a task. write a response that appropriately completes the request.\n",
      "### Instruction:\n",
      "Write a paragraph to introduce supervised fine-tuning.\n",
      "### Response:\n",
      "\n",
      "Supervised fine-tuning is a critical process that enhances the performance of language models by providing them with specific training data. This technique involves taking a pre-trained model and refining it through a series of tasks, such as answering questions or performing other language-related tasks. The goal is to tailor the model to excel in a particular domain or task, making it more responsive to user needs and improving its overall effectiveness.<|end_of_text|>\n"
     ]
    }
   ],
   "source": [
    "FastLanguageModel.for_inference(model)\n",
    "message = alpaca_template.format(\"Write a paragraph to introduce supervised fine-tuning.\",\"\")\n",
    "inputs = tokenizer(message,return_tensors=\"pt\").to(\"cuda\")\n",
    "text_streamer = TextStreamer(tokenizer)\n",
    "_ = model.generate(**inputs,streamer = text_streamer,max_new_tokens = 256,use_cache=True)"
   ]
  },
  {
   "cell_type": "code",
   "execution_count": 28,
   "metadata": {
    "id": "dFsWgbrSxdoh"
   },
   "outputs": [],
   "source": [
    "import os\n",
    "from dotenv import load_dotenv\n",
    "load_dotenv()\n",
    "\n",
    "HF_TOKEN = os.getenv(\"HF_TOKEN\")"
   ]
  },
  {
   "cell_type": "code",
   "execution_count": 27,
   "metadata": {
    "colab": {
     "base_uri": "https://localhost:8080/",
     "height": 258,
     "referenced_widgets": [
      "10d19772699c44b48347767f2a888856",
      "d0340982f6c846759125edd2a59a5918",
      "8479bfd3815146ff8f957c22932b98f4",
      "0a8bd2998f224b0da1e92dde146da705",
      "27709f86fe3a4d25a47af8c96287a720",
      "72e8ec20fc914d04935183fe227a0ebb",
      "d5c886e3222c4e739508c7fb96fcad20",
      "5e63bd2b069a47a680bac5ff42f5cce0",
      "33c67a5b555348bbb680779dfee54abc",
      "e0824d0d490f4b0bb4227a565e5b73ce",
      "655cda811d6c4005a0c747fc31ffee61",
      "8599c6f84bda4f72a56c27ddaf6ac1c3",
      "02a7aa297b294d2984731018f7b7b3a2",
      "3070135e58cf458bbbb02979dad00199",
      "a458fc81ee0a4f77a7007874f99bfe37",
      "f6725aa1a2ae4178a80e4f6d7aba83f3",
      "96c609e996a84ac588c8709d296694e8",
      "4993b60772144241ae5cd6e07bab6003",
      "021b2a5134354a4eb0d29a4ab6425b35",
      "8905b372406740379dde6d74901ac3bb",
      "0b9bb7401f9343fe881ec04895ada870",
      "d8a74a3d0d954c06a3fa1541fb60f102",
      "14031d70ef47476b9591695719342b55",
      "97d46ea568334b6db7f5007cf44baf38",
      "999e6035451549b590ae62b8468470da",
      "90a96507290e4934a57ec9db52d2676b",
      "bbb423841d114cc5af5c861e138ea015",
      "6a9e7adbbe0741199dac4b4074ce759c",
      "95e9c4fe6adf44b883e6a528cbec2cf6",
      "c2e8b8167f5e4c3eb019e831dbd0a6da",
      "73de30baa7254d1682961646541535a0",
      "572621abb4ae4fc9afcafe373ea154f5",
      "c056a533bdcf4c59ab2aedc863c13b52",
      "5f015a71018b45ca8b723aba9b4562de",
      "2ba0f6a846d24acbbf0b64629b7d9e8c",
      "f0a2cc91d3054849aa821a0a3d3b1480",
      "392d892befc44a899687e04d67cab164",
      "03c782e18eb5442695880c3d682ecbf0",
      "65587611138046bab66e04eba166da85",
      "f17d3c7397f84dee8342199aedf822b0",
      "f20fc668c8c348299fbff5342752058f",
      "e3bc829019f14098a1685f9df5fc01e7",
      "b1b4706718414e8c9403b097edc5316d",
      "79666691d5d14482a1d5c12b7dd1f3d7",
      "65a7a98462104026861494af8e93a1d0",
      "d91268c517114dc390ba7ed99498db14",
      "5a55300b7a2845e0b896f872a7ef85ba",
      "f879d803e8a341499324687f7f2fd00e",
      "52050e4821414d3f9ac4974e9bd99bf8",
      "a208acd84461493cb9b538433c0cd008",
      "f0b790b5185847389783eaff430fd2be",
      "5d0bca39fef540019e67ea2a665ae303",
      "c6cf9460008d4bd5a067d0613068118e",
      "e4bf732851914ce68bf70ca811a3102d",
      "ee70fb2c6d6a4eada69e575939ae276e",
      "feb814bd983a4335ab908b5cff06db73",
      "c9f44d45e08d4cb584d2a4c1abc2a51e",
      "8118adee39ef41b89ad2a9aaa036a0de",
      "c9a18bfd32c24ef68e5a04cb8049dd81",
      "e0a32385bd074c689d508a202f1d6cab",
      "1c73f6641bf948db968510cdaf216f0d",
      "5f120b5d857a49e18aa69655a3cbe4d0",
      "fead12ad9d084457b0df6ceef2f94c53",
      "37653c0762944c94ae5f1f8d5b034270",
      "08ac38184bc741b7b81a38b040b27814",
      "40c6fa16698447f497b272afe9a233ef",
      "fe290834be0b4ccda0a77889af085585",
      "ab034f7ceee14d339ae2d1c11676e741",
      "c5824e5999a7477ca569eee30e198292",
      "2934fe5514e7488fa8e065b9de69f869",
      "0c9b8bf662ab4fbea01b06eae7449c5e",
      "05c64623510d4f8cbf1b449bd049d0bb",
      "06d70885ecff4e329c44d56387274419",
      "c75891ac97664a4c8aa413e84ffe109e",
      "851c51427ff84f03ba9fd951b46bc60b",
      "3cd956271b9c456fbda2cd1237c3b753",
      "1ef736eb9a104dd396f72cdc2ddba3bd"
     ]
    },
    "id": "OG0dq8Jxws32",
    "outputId": "4254904c-1367-4293-9adf-75da76a7f38f"
   },
   "outputs": [
    {
     "data": {
      "application/vnd.jupyter.widget-view+json": {
       "model_id": "10d19772699c44b48347767f2a888856",
       "version_major": 2,
       "version_minor": 0
      },
      "text/plain": [
       "README.md:   0%|          | 0.00/575 [00:00<?, ?B/s]"
      ]
     },
     "metadata": {},
     "output_type": "display_data"
    },
    {
     "data": {
      "application/vnd.jupyter.widget-view+json": {
       "model_id": "8599c6f84bda4f72a56c27ddaf6ac1c3",
       "version_major": 2,
       "version_minor": 0
      },
      "text/plain": [
       "Processing Files (0 / 0)                : |          |  0.00B /  0.00B            "
      ]
     },
     "metadata": {},
     "output_type": "display_data"
    },
    {
     "data": {
      "application/vnd.jupyter.widget-view+json": {
       "model_id": "14031d70ef47476b9591695719342b55",
       "version_major": 2,
       "version_minor": 0
      },
      "text/plain": [
       "New Data Upload                         : |          |  0.00B /  0.00B            "
      ]
     },
     "metadata": {},
     "output_type": "display_data"
    },
    {
     "data": {
      "application/vnd.jupyter.widget-view+json": {
       "model_id": "5f015a71018b45ca8b723aba9b4562de",
       "version_major": 2,
       "version_minor": 0
      },
      "text/plain": [
       "  ...ma-3.1-8B/adapter_model.safetensors:   0%|          |  558kB /  336MB            "
      ]
     },
     "metadata": {},
     "output_type": "display_data"
    },
    {
     "name": "stdout",
     "output_type": "stream",
     "text": [
      "Saved model to https://huggingface.co/devmangukiya/TwinLlama-3.1-8B\n"
     ]
    },
    {
     "data": {
      "application/vnd.jupyter.widget-view+json": {
       "model_id": "65a7a98462104026861494af8e93a1d0",
       "version_major": 2,
       "version_minor": 0
      },
      "text/plain": [
       "Processing Files (0 / 0)                : |          |  0.00B /  0.00B            "
      ]
     },
     "metadata": {},
     "output_type": "display_data"
    },
    {
     "data": {
      "application/vnd.jupyter.widget-view+json": {
       "model_id": "feb814bd983a4335ab908b5cff06db73",
       "version_major": 2,
       "version_minor": 0
      },
      "text/plain": [
       "New Data Upload                         : |          |  0.00B /  0.00B            "
      ]
     },
     "metadata": {},
     "output_type": "display_data"
    },
    {
     "data": {
      "application/vnd.jupyter.widget-view+json": {
       "model_id": "fe290834be0b4ccda0a77889af085585",
       "version_major": 2,
       "version_minor": 0
      },
      "text/plain": [
       "  TwinLlama-3.1-8B/tokenizer.json       : 100%|##########| 17.2MB / 17.2MB            "
      ]
     },
     "metadata": {},
     "output_type": "display_data"
    }
   ],
   "source": [
    "# ✅ Save LoRA after SFT\n",
    "model.save_pretrained(\"TwinLlama-3.1-8B\")\n",
    "tokenizer.save_pretrained(\"TwinLlama-3.1-8B\")\n",
    "\n",
    "# ✅ Push to Hugging Face Hub (optional)\n",
    "model.push_to_hub(\"devmangukiya/TwinLlama-3.1-8B\", token=HF_TOKEN)\n",
    "tokenizer.push_to_hub(\"devmangukiya/TwinLlama-3.1-8B\", token=HF_TOKEN)"
   ]
  },
  {
   "cell_type": "code",
   "execution_count": null,
   "metadata": {
    "id": "2DebVA3kwx3_"
   },
   "outputs": [],
   "source": []
  }
 ],
 "metadata": {
  "accelerator": "GPU",
  "colab": {
   "gpuType": "T4",
   "provenance": []
  },
  "kernelspec": {
   "display_name": "Python 3",
   "name": "python3"
  },
  "language_info": {
   "name": "python"
  }
 },
 "nbformat": 4,
 "nbformat_minor": 0
}
